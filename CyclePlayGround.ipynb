{
 "cells": [
  {
   "cell_type": "code",
   "execution_count": 1,
   "id": "4d2d2fec-f7c8-43b4-8efd-d97358cb0612",
   "metadata": {
    "jupyter": {
     "source_hidden": true
    },
    "tags": []
   },
   "outputs": [],
   "source": [
    "import numpy as np\n",
    "import pandas as pd\n",
    "from ipywidgets import interact, interactive, fixed, interact_manual\n",
    "import ipywidgets as widgets\n",
    "from bokeh.plotting import figure, output_notebook, show\n",
    "from bokeh.models import ColumnDataSource\n",
    "from bokeh.transform import factor_cmap\n",
    "from bokeh.palettes import Category20_20\n",
    "output_notebook()"
   ]
  },
  {
   "cell_type": "markdown",
   "id": "11194598-a19b-415b-a257-7f827862f1e2",
   "metadata": {
    "tags": []
   },
   "source": [
    "# Cycle Time Machine\n",
    "We just have turned on our debt cycle today, go ahead and add one character to the tale to see what happens!"
   ]
  },
  {
   "cell_type": "code",
   "execution_count": 36,
   "id": "af5e90b4-dab1-4ae9-9a4e-44c2ab9f071e",
   "metadata": {
    "tags": []
   },
   "outputs": [
    {
     "data": {
      "application/vnd.jupyter.widget-view+json": {
       "model_id": "4eefe2d6ebf0439594794633abab536f",
       "version_major": 2,
       "version_minor": 0
      },
      "text/plain": [
       "interactive(children=(BoundedIntText(value=0, description='characters'), BoundedIntText(value=0, description='…"
      ]
     },
     "metadata": {},
     "output_type": "display_data"
    }
   ],
   "source": [
    "np.random.seed(42)\n",
    "def get_size_for_chars(chars):\n",
    "    x1, x2, y1, y2 = 1, 50, 15, 5\n",
    "    m = (y2 - y1) / (x2 - x1)\n",
    "    b = y1 - m * x1\n",
    "\n",
    "    size = int(m * chars + b)\n",
    "    if size < 5:\n",
    "        return 5\n",
    "    return size\n",
    "\n",
    "DTS = [0, 1, 5, 8, 11, 15, 17, 25, 28, 33, 34, 38, 40]\n",
    "def create_char_history(name=\"SpongeBob\", offset=0, nc=0, nc_point=17, char_id=1, eoc=-1):\n",
    "    char = {\n",
    "        \"name\": f\"{name}\",\n",
    "        \"interactions\": [\n",
    "            f\"☎️ Hey {name}, look, we have some communication for you!\",\n",
    "            f\"☎️ Hey {name}, it's us again, probably you didn't see yesterday msg\",\n",
    "            f\"💌 Hey {name}, we're trying to contact you, please call us back or answer this email.\",\n",
    "            f\"☎️ Hey {name}, it seems that we are not able to get in touch, please call us back\",\n",
    "            f\"💌 Hey {name}, we need to talk\",\n",
    "            \"💌 Harder msg 1\",\n",
    "            \"💌 Harder msg 2\",\n",
    "            \"💌 Worrying warning\",\n",
    "            \"💌 A bit more worrying warning\",\n",
    "            \"☎️ This is a serious message\",\n",
    "            \"💌 One of the last opportunities\",\n",
    "            \"💌 Yeah, seriously\",\n",
    "            \"☎️ Last call\",\n",
    "        ],\n",
    "        \"dt\": DTS,\n",
    "        \"nc_point\": 0,\n",
    "        \"char_id\": char_id,\n",
    "    }\n",
    "    data = pd.DataFrame(char)\n",
    "\n",
    "    # classify means\n",
    "    sms = data.interactions.str.contains(\"☎️\")\n",
    "    data[\"comm_mean\"] = \"email\"\n",
    "    data.loc[sms, \"comm_mean\"] = \"sms\"\n",
    "\n",
    "\n",
    "    if nc:\n",
    "        # Add the points where the non contactable history kicks in\n",
    "        index = DTS.index(nc_point)\n",
    "        nc_point_next = DTS[index + 1]\n",
    "        for p, v in zip((nc_point, nc_point_next), (1, 2)):\n",
    "            c = data[\"dt\"] == p\n",
    "            data.loc[c, \"nc_point\"] = v\n",
    "\n",
    "        # Add some non contactable point\n",
    "        c = data[\"dt\"] > nc_point\n",
    "        data.loc[c, \"dt\"] += nc\n",
    "        data[\"dt\"] += offset\n",
    "        return data\n",
    "\n",
    "    data[\"dt\"] += offset\n",
    "    return data[data.dt <= DTS[eoc]]\n",
    "\n",
    "def create_cycle():\n",
    "    spongebob = create_char_history()\n",
    "    patrick_star = create_char_history(\"Patrick Star\", offset=1, char_id=2)\n",
    "    squidward = create_char_history(\"Squidward\", offset=1, nc=10, char_id=3)\n",
    "    krabs = create_char_history(\"MR Krabs\", offset=3, char_id=4, eoc=3)\n",
    "    cast = [spongebob, patrick_star, squidward, krabs]\n",
    "    for c in range(5, 100):\n",
    "        char = create_char_history(\n",
    "            name=f\"extra_tt_{c - 3}\",\n",
    "            offset=np.random.randint(1, 20),\n",
    "            nc=np.random.poisson(lam=1) * 5,\n",
    "            nc_point=DTS[np.random.randint(6, 8)],\n",
    "            char_id=c,\n",
    "            eoc=np.random.randint(8, len(DTS))\n",
    "        )\n",
    "        cast.append(char)\n",
    "    return pd.concat(cast)\n",
    "\n",
    "k0 = create_cycle()\n",
    "\n",
    "def plot(characters=1, days=0):\n",
    "    k1 = k0[(k0[\"dt\"] <= days) & (k0[\"char_id\"] <= characters)]\n",
    "\n",
    "    k3 = k1.groupby([\"name\", \"char_id\"]).dt.max().reset_index()\n",
    "    k3[\"dt_end\"] = days\n",
    "\n",
    "    s0 = ColumnDataSource(k1)\n",
    "\n",
    "    if characters > 20:\n",
    "        factors = (1, characters + 1)\n",
    "        y = \"char_id\"\n",
    "        y_segment = k3.char_id\n",
    "        TOOLTIPS = None\n",
    "    else:\n",
    "        factors = k1.name.unique()\n",
    "        y = \"name\"\n",
    "        y_segment = k3.name\n",
    "        TOOLTIPS = \"\"\"<span style=\"font-size: 16px;\">Day Since Turned on DC: @dt<br>@interactions</span>\"\"\"\n",
    "    cmap = \"grey\"\n",
    "\n",
    "\n",
    "    if characters <= 20:\n",
    "        cmap = factor_cmap('name', palette=Category20_20, factors=factors)\n",
    "\n",
    "    p = figure(\n",
    "        width=1200, height=600, y_range=factors, title=\"Cycle Interactive Map\", tooltips=TOOLTIPS\n",
    "    )\n",
    "\n",
    "    # Non contactable segments\n",
    "    x0 = k0.loc[k0.nc_point == 1, \"dt\"]\n",
    "    x1 = k0.loc[k0.nc_point == 2, \"dt\"]\n",
    "    y0 = k0.loc[k0.nc_point == 1, y]\n",
    "    y1 = k0.loc[k0.nc_point == 2, y]\n",
    "    p.segment(x0=x0, x1=x1, y0=y0, y1=y1, line_width=3)\n",
    "\n",
    "    # eoc segments\n",
    "    p.segment(\n",
    "        x0=k3.dt, x1=k3.dt_end, y0=y_segment, y1=y_segment, line_width=1, line_dash=\"dashed\",\n",
    "    )\n",
    "\n",
    "    p.circle(\n",
    "        x='dt', y=y, size=get_size_for_chars(characters), fill_color=cmap, source=s0)\n",
    "\n",
    "    ticker = np.arange(days+1)\n",
    "    if days > 40:\n",
    "        ticker = np.arange(days, step=5)\n",
    "    p.xaxis.ticker = ticker\n",
    "    p.yaxis.axis_label = \"Characters\"\n",
    "    p.xaxis.axis_label = \"Days Since We Turned on the Cycle\"\n",
    "    p.yaxis.axis_label_text_font_size = \"16px\"\n",
    "    p.title.text_font_size = \"20px\"\n",
    "    p.xaxis.axis_label_text_font_size = \"16px\"\n",
    "    p.yaxis.major_label_text_font_size = \"16px\"\n",
    "\n",
    "    show(p)\n",
    "\n",
    "characters = widgets.BoundedIntText(value=0, min=0, max=100, step=1)\n",
    "days = widgets.BoundedIntText(value=0, min=0, max=200, step=5)\n",
    "_ = interact(plot, characters=characters, days=days)\n",
    "# plot(characters=10, days=40)"
   ]
  },
  {
   "cell_type": "code",
   "execution_count": null,
   "id": "e34becbe-5353-43ea-90c5-3f85b5d75347",
   "metadata": {
    "jupyter": {
     "source_hidden": true
    },
    "tags": []
   },
   "outputs": [],
   "source": []
  }
 ],
 "metadata": {
  "kernelspec": {
   "display_name": "Python 3 (ipykernel)",
   "language": "python",
   "name": "python3"
  },
  "language_info": {
   "codemirror_mode": {
    "name": "ipython",
    "version": 3
   },
   "file_extension": ".py",
   "mimetype": "text/x-python",
   "name": "python",
   "nbconvert_exporter": "python",
   "pygments_lexer": "ipython3",
   "version": "3.9.7"
  }
 },
 "nbformat": 4,
 "nbformat_minor": 5
}
